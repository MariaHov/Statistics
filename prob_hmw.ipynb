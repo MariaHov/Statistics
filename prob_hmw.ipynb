{
 "cells": [
  {
   "cell_type": "code",
   "execution_count": 1,
   "id": "1173a32f",
   "metadata": {},
   "outputs": [],
   "source": [
    "import numpy as np\n",
    "import pandas as pd\n",
    "import matplotlib.pyplot as plt\n",
    "import seaborn as sns\n",
    "import math\n",
    "%matplotlib inline"
   ]
  },
  {
   "cell_type": "markdown",
   "id": "e1bd192e",
   "metadata": {},
   "source": [
    "### Here we have generated 1000 randon numbers with np.random"
   ]
  },
  {
   "cell_type": "code",
   "execution_count": 2,
   "id": "b2b23fcd",
   "metadata": {},
   "outputs": [
    {
     "data": {
      "image/png": "[encoded data removed]",
      "text/plain": [
       "<Figure size 432x288 with 1 Axes>"
      ]
     },
     "metadata": {
      "needs_background": "light"
     },
     "output_type": "display_data"
    }
   ],
   "source": [
    "np.random.seed(101)\n",
    "x = np.random.uniform(low=0, high=1, size=(1000))\n",
    "plt.hist(x, bins = 6,rwidth=0.9,)\n",
    "plt.show()"
   ]
  },
  {
   "cell_type": "markdown",
   "id": "d267608b",
   "metadata": {},
   "source": [
    "### Here I have created my own generator with Uniformly distributed sequences "
   ]
  },
  {
   "cell_type": "code",
   "execution_count": 3,
   "id": "138d707c",
   "metadata": {},
   "outputs": [],
   "source": [
    "# a is irrational number\n",
    "def my_gen (a):\n",
    "    n = 1\n",
    "    while True:\n",
    "        i , k  = math.modf(n*a)\n",
    "        n+=1\n",
    "        yield i\n",
    "\n",
    "sequence = my_gen(math.sqrt(2))\n",
    "arr = np.zeros(1000)\n",
    "for x in range(len(arr)):\n",
    "    arr[x] = next(sequence)"
   ]
  },
  {
   "cell_type": "code",
   "execution_count": 4,
   "id": "c8fb84c2",
   "metadata": {},
   "outputs": [
    {
     "data": {
      "image/png": "[encoded data removed]",
      "text/plain": [
       "<Figure size 432x288 with 1 Axes>"
      ]
     },
     "metadata": {
      "needs_background": "light"
     },
     "output_type": "display_data"
    }
   ],
   "source": [
    "plt.hist(arr, bins = 6,\n",
    "         rwidth=0.9,color= 'green')\n",
    "plt.show()"
   ]
  },
  {
   "cell_type": "markdown",
   "id": "d5b592cf",
   "metadata": {},
   "source": [
    "### Using that logic there is the second generator which was required"
   ]
  },
  {
   "cell_type": "code",
   "execution_count": 5,
   "id": "4d3f4153",
   "metadata": {},
   "outputs": [],
   "source": [
    "n = 1 # n is defined global to not get the same distribution every time"
   ]
  },
  {
   "cell_type": "code",
   "execution_count": 6,
   "id": "7e79e10d",
   "metadata": {},
   "outputs": [],
   "source": [
    "def my_second_gen (a):\n",
    "        global n\n",
    "        while True:\n",
    "            i , k  = math.modf(n*a)\n",
    "            if i >= 0 and i<0.3:\n",
    "                yield 1\n",
    "            elif i >= 0.3 and i<0.45:\n",
    "                yield 2\n",
    "            elif i >= 0.45 and i<0.55:\n",
    "                yield 4\n",
    "            elif i >= 0.55 and i<0.63:\n",
    "                yield 7\n",
    "            else:\n",
    "                yield 8\n",
    "            n+=1\n",
    "            "
   ]
  },
  {
   "cell_type": "code",
   "execution_count": 7,
   "id": "570bd973",
   "metadata": {},
   "outputs": [],
   "source": [
    "sequence = my_second_gen(math.pi)\n",
    "arr = np.zeros(100000)\n",
    "for x in range(len(arr)):\n",
    "    arr[x] = next(sequence)"
   ]
  },
  {
   "cell_type": "code",
   "execution_count": 8,
   "id": "f1c64a17",
   "metadata": {},
   "outputs": [
    {
     "data": {
      "text/plain": [
       "{1.0: 29997, 2.0: 15000, 4.0: 10001, 7.0: 8001, 8.0: 37001}"
      ]
     },
     "execution_count": 8,
     "metadata": {},
     "output_type": "execute_result"
    }
   ],
   "source": [
    "unique, counts = np.unique(arr, return_counts=True)\n",
    "dict(zip(unique, counts))"
   ]
  },
  {
   "cell_type": "code",
   "execution_count": 9,
   "id": "1fd1275d",
   "metadata": {},
   "outputs": [
    {
     "data": {
      "text/plain": [
       "4.52016"
      ]
     },
     "execution_count": 9,
     "metadata": {},
     "output_type": "execute_result"
    }
   ],
   "source": [
    "np.mean(arr)"
   ]
  },
  {
   "cell_type": "code",
   "execution_count": 10,
   "id": "a1229354",
   "metadata": {},
   "outputs": [],
   "source": [
    "def variance(data, ddof=0):\n",
    "    n = len(data)\n",
    "    mean = sum(data) / n\n",
    "    return sum((x - mean) ** 2 for x in data) / (n - ddof)"
   ]
  },
  {
   "cell_type": "code",
   "execution_count": 11,
   "id": "806a6ed3",
   "metadata": {},
   "outputs": [
    {
     "data": {
      "text/plain": [
       "9.669413574403082"
      ]
     },
     "execution_count": 11,
     "metadata": {},
     "output_type": "execute_result"
    }
   ],
   "source": [
    "variance(arr)"
   ]
  },
  {
   "cell_type": "markdown",
   "id": "ba754582",
   "metadata": {},
   "source": [
    "# 2"
   ]
  },
  {
   "cell_type": "code",
   "execution_count": 12,
   "id": "1be007b7",
   "metadata": {},
   "outputs": [],
   "source": [
    "import scipy.stats as st"
   ]
  },
  {
   "cell_type": "code",
   "execution_count": 13,
   "id": "7ab38e00",
   "metadata": {},
   "outputs": [
    {
     "data": {
      "image/png": "[encoded data removed]",
      "text/plain": [
       "<Figure size 936x576 with 1 Axes>"
      ]
     },
     "metadata": {
      "needs_background": "light"
     },
     "output_type": "display_data"
    }
   ],
   "source": [
    "data_binom = st.binom.rvs(n = 10, p = 0.6, size = 1000)\n",
    "\n",
    "\n",
    "plt.figure(figsize = (13,8)) \n",
    "plt.hist(data_binom, bins = 30); \n",
    "\n",
    "data_binom1 = st.binom.rvs(n = 60, p = 0.1, size = 1000) \n",
    "plt.hist(data_binom1, bins = 30);\n",
    "\n",
    "data_binom2 = st.binom.rvs(n = 120, p = 0.05, size = 1000) \n",
    "plt.hist(data_binom2, bins = 30);\n",
    "\n",
    "data_binom3 = st.binom.rvs(n = 30, p = 0.2, size = 1000) \n",
    "plt.hist(data_binom3, bins = 30);\n",
    "\n",
    "data_poisson = np.random.poisson(lam=6, size=1000)\n",
    "plt.hist(data_poisson, bins = 30);"
   ]
  },
  {
   "cell_type": "code",
   "execution_count": 14,
   "id": "2e874673",
   "metadata": {},
   "outputs": [
    {
     "name": "stdout",
     "output_type": "stream",
     "text": [
      "1st Binom mean : 5.987\n",
      "2nd Binom mean : 5.968\n",
      "3nd Binom mean : 6.167\n",
      "4nd Binom mean : 5.962\n",
      "Poission mean : 5.897\n"
     ]
    }
   ],
   "source": [
    "print('1st Binom mean :',np.mean(data_binom))\n",
    "print('2nd Binom mean :',np.mean(data_binom1))\n",
    "print('3nd Binom mean :',np.mean(data_binom2))\n",
    "print('4nd Binom mean :',np.mean(data_binom3))\n",
    "print('Poission mean :',np.mean(data_poisson))"
   ]
  },
  {
   "cell_type": "code",
   "execution_count": 15,
   "id": "d74a8642",
   "metadata": {},
   "outputs": [
    {
     "name": "stdout",
     "output_type": "stream",
     "text": [
      "1st Binom variance : 2.3508310000000003\n",
      "2nd Binom variance : 5.036976000000019\n",
      "3nd Binom variance : 6.7051109999999685\n",
      "4nd Binom variance : 4.822556000000008\n",
      "Poission variance : 5.394391000000003\n"
     ]
    }
   ],
   "source": [
    "print('1st Binom variance :',variance(data_binom))\n",
    "print('2nd Binom variance :',variance(data_binom1))\n",
    "print('3nd Binom variance :',variance(data_binom2))\n",
    "print('4nd Binom variance :',variance(data_binom3))\n",
    "print('Poission variance :',variance(data_poisson))"
   ]
  },
  {
   "cell_type": "code",
   "execution_count": 16,
   "id": "f4f245b4",
   "metadata": {},
   "outputs": [
    {
     "data": {
      "text/plain": [
       "2"
      ]
     },
     "execution_count": 16,
     "metadata": {},
     "output_type": "execute_result"
    }
   ],
   "source": [
    "import statistics\n",
    "statistics.variance(data_binom)"
   ]
  }
 ],
 "metadata": {
  "kernelspec": {
   "display_name": "Python 3",
   "language": "python",
   "name": "python3"
  },
  "language_info": {
   "codemirror_mode": {
    "name": "ipython",
    "version": 3
   },
   "file_extension": ".py",
   "mimetype": "text/x-python",
   "name": "python",
   "nbconvert_exporter": "python",
   "pygments_lexer": "ipython3",
   "version": "3.8.8"
  }
 },
 "nbformat": 4,
 "nbformat_minor": 5
}
